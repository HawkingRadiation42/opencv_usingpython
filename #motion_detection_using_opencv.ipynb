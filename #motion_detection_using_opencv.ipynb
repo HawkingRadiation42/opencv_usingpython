{
 "cells": [
  {
   "cell_type": "code",
   "execution_count": 1,
   "id": "bbc92c15",
   "metadata": {},
   "outputs": [],
   "source": [
    "import cv2 "
   ]
  },
  {
   "cell_type": "code",
   "execution_count": null,
   "id": "ac65f4a9",
   "metadata": {},
   "outputs": [],
   "source": [
    "img = cv2.imread('/Users/shreykhandelwal/desktop/test_images/lenna.png')"
   ]
  },
  {
   "cell_type": "code",
   "execution_count": null,
   "id": "658a1602",
   "metadata": {},
   "outputs": [],
   "source": [
    "##code to detect motion"
   ]
  },
  {
   "cell_type": "code",
   "execution_count": null,
   "id": "0b22c0d3",
   "metadata": {},
   "outputs": [],
   "source": [
    "cap = cv2.VideoCapture(0)\n",
    "\n",
    "ret, frame1 = cap.read()\n",
    "ret, frame2 = cap.read()\n",
    "\n",
    "while cap.isOpened():\n",
    "    diff  = cv2.absdiff(frame1, frame2)\n",
    "    gray = cv2.cvtColor(diff, cv2.COLOR_BGR2GRAY)\n",
    "    blur = cv2.GaussianBlur(gray, (5,5), 0) \n",
    "    _, thresh = cv2.threshold(blur, 20, 255, cv2.THRESH_BINARY)\n",
    "    dilated = cv2.dilate(thresh, None, iterations=3)\n",
    "    contours, _ = cv2.findContours(dilated, cv2.RETR_TREE, cv2.CHAIN_APPROX_SIMPLE)\n",
    "    \n",
    "    \n",
    "    for contour in contours:\n",
    "        (x, y , w, h) = cv2.boundingRect(contour)\n",
    "        \n",
    "        if cv2.contourArea(contour) < 9999:\n",
    "            continue \n",
    "        cv2. rectangle(frame1, (x, y), (x+w, y+h), (0,255,0), 2)\n",
    "        cv2.putText(frame1, \"Status: {}\". format('MOVEMENT'), (10, 20), cv2.FONT_HERSHEY_SIMPLEX,\n",
    "                   1, (0,0,255), 3)\n",
    "    #cv2.drawContours(frame1, contours, -1, (0, 255, 0), 2)\n",
    "    \n",
    "    \n",
    "    cv2.imshow(\"feed\", frame1)\n",
    "    frame1 = frame2\n",
    "    ret, frame2 = cap.read()\n",
    "    \n",
    "    if cv2.waitKey(40) == 27:\n",
    "        break\n",
    "        \n",
    "cv2.destroyAllWindows()\n",
    "cap.release()\n",
    "    "
   ]
  },
  {
   "cell_type": "code",
   "execution_count": null,
   "id": "0255f331",
   "metadata": {},
   "outputs": [],
   "source": [
    "\n"
   ]
  },
  {
   "cell_type": "code",
   "execution_count": null,
   "id": "b82a24c1",
   "metadata": {},
   "outputs": [],
   "source": []
  },
  {
   "cell_type": "code",
   "execution_count": null,
   "id": "d7ec538b",
   "metadata": {},
   "outputs": [],
   "source": []
  }
 ],
 "metadata": {
  "kernelspec": {
   "display_name": "Python 3",
   "language": "python",
   "name": "python3"
  },
  "language_info": {
   "codemirror_mode": {
    "name": "ipython",
    "version": 3
   },
   "file_extension": ".py",
   "mimetype": "text/x-python",
   "name": "python",
   "nbconvert_exporter": "python",
   "pygments_lexer": "ipython3",
   "version": "3.8.8"
  }
 },
 "nbformat": 4,
 "nbformat_minor": 5
}
