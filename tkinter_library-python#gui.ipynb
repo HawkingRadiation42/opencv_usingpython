{
 "cells": [
  {
   "cell_type": "code",
   "execution_count": 10,
   "id": "58acc4ee",
   "metadata": {},
   "outputs": [],
   "source": [
    "from tkinter import Tk, Label, Toplevel, Button, messagebox"
   ]
  },
  {
   "cell_type": "code",
   "execution_count": 6,
   "id": "ccae845b",
   "metadata": {},
   "outputs": [
    {
     "name": "stdout",
     "output_type": "stream",
     "text": [
      "screen_width 1440\n",
      "screen height 900\n"
     ]
    }
   ],
   "source": [
    "root = Tk()\n",
    "screen_width = root.winfo_screenwidth()\n",
    "screen_height = root.winfo_screenheight()\n",
    "print(\"screen_width\",screen_width)\n",
    "print(\"screen height\",screen_height)\n",
    "root.mainloop()\n"
   ]
  },
  {
   "cell_type": "code",
   "execution_count": 11,
   "id": "94bdfa91",
   "metadata": {},
   "outputs": [
    {
     "name": "stdout",
     "output_type": "stream",
     "text": [
      "thank you \n"
     ]
    }
   ],
   "source": [
    "root = Tk()\n",
    "title = 'customer feedback'\n",
    "text = 'did you like our customer service ?'\n",
    "reply = messagebox.askquestion(title, text)\n",
    "if reply == 'yes':\n",
    "    print(\"thank you \")\n",
    "else :\n",
    "    print(\"sorry \")\n"
   ]
  },
  {
   "cell_type": "code",
   "execution_count": null,
   "id": "716b560d",
   "metadata": {},
   "outputs": [],
   "source": []
  }
 ],
 "metadata": {
  "kernelspec": {
   "display_name": "Python 3",
   "language": "python",
   "name": "python3"
  },
  "language_info": {
   "codemirror_mode": {
    "name": "ipython",
    "version": 3
   },
   "file_extension": ".py",
   "mimetype": "text/x-python",
   "name": "python",
   "nbconvert_exporter": "python",
   "pygments_lexer": "ipython3",
   "version": "3.8.8"
  }
 },
 "nbformat": 4,
 "nbformat_minor": 5
}
