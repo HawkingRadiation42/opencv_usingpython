{
 "cells": [
  {
   "cell_type": "code",
   "execution_count": null,
   "id": "7bb9eac8",
   "metadata": {},
   "outputs": [],
   "source": [
    "import cv2\n",
    "import numpy as np\n",
    "import dlib"
   ]
  },
  {
   "cell_type": "code",
   "execution_count": null,
   "id": "609ae21a",
   "metadata": {},
   "outputs": [
    {
     "name": "stdout",
     "output_type": "stream",
     "text": [
      "Collecting package metadata (current_repodata.json): done\n",
      "Solving environment: failed with initial frozen solve. Retrying with flexible solve.\n",
      "Solving environment: failed with repodata from current_repodata.json, will retry with next repodata source.\n",
      "Collecting package metadata (repodata.json): done\n",
      "Solving environment: failed with initial frozen solve. Retrying with flexible solve.\n",
      "Solving environment: / \n",
      "Found conflicts! Looking for incompatible packages.\n",
      "This can take several minutes.  Press CTRL-C to abort.\n",
      "Examining conflict for matplotlib-base sympy applaunchservices heapdict anacond\\ "
     ]
    }
   ],
   "source": [
    "\n",
    "\n",
    "conda install -c conda-forge dlib\n"
   ]
  },
  {
   "cell_type": "code",
   "execution_count": null,
   "id": "80a19b2c",
   "metadata": {},
   "outputs": [],
   "source": []
  },
  {
   "cell_type": "code",
   "execution_count": null,
   "id": "d7d62457",
   "metadata": {},
   "outputs": [],
   "source": [
    "cap = cv2.VideoCapture(0)\n",
    "detector = dlib.get_frontal_face_detector()\n",
    "while true:\n",
    "    ret, frame = cap.read()\n",
    "    frame = cv2.flip(frame,1)\n",
    "    gray = cv2.cvtColor(fram, cv2.COLOR_BGR2GRAY)\n",
    "    faces= detector(gray)\n",
    "    i = o\n",
    "    for face in faces:\n",
    "        x,y = face.left(), face.top()\n",
    "        x1,y1 = face.right(), face.bottom()\n",
    "        \n",
    "        cv2.rectangle(frame, (x,y), (x1,y1),(0,255,0), 2)\n",
    "        i=i+1\n",
    "        cv2.putText(frame, 'face num'+str(i), (x-10, y-10),\n",
    "                   cv2.FONT_HERSHEY_SIMPLEX, 0.7,(0,0,255), 2)\n",
    "        print(face, i)\n",
    "    cv2.imshow('frame', frame)\n",
    "    if cv2.waitKey(1)&0xFF == ord('q'):\n",
    "        break\n",
    "cap.release()\n",
    "cv2.destroyAllWindows()"
   ]
  },
  {
   "cell_type": "code",
   "execution_count": null,
   "id": "98bb427c",
   "metadata": {},
   "outputs": [],
   "source": [
    "virtualenv --version\n",
    "\n"
   ]
  },
  {
   "cell_type": "markdown",
   "id": "3b08c7f7",
   "metadata": {},
   "source": []
  }
 ],
 "metadata": {
  "kernelspec": {
   "display_name": "Python 3",
   "language": "python",
   "name": "python3"
  },
  "language_info": {
   "codemirror_mode": {
    "name": "ipython",
    "version": 3
   },
   "file_extension": ".py",
   "mimetype": "text/x-python",
   "name": "python",
   "nbconvert_exporter": "python",
   "pygments_lexer": "ipython3",
   "version": "3.8.8"
  }
 },
 "nbformat": 4,
 "nbformat_minor": 5
}
