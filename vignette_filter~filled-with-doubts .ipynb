{
 "cells": [
  {
   "cell_type": "code",
   "execution_count": 1,
   "id": "7f22d873",
   "metadata": {},
   "outputs": [],
   "source": [
    "import cv2\n",
    "import numpy as np\n",
    "import matplotlib.pyplot as plt "
   ]
  },
  {
   "cell_type": "code",
   "execution_count": 2,
   "id": "ef7fd9a9",
   "metadata": {},
   "outputs": [],
   "source": [
    "img = cv2.imread('/Users/shreykhandelwal/Desktop/image2.jpg')\n"
   ]
  },
  {
   "cell_type": "code",
   "execution_count": 3,
   "id": "c67079c1",
   "metadata": {},
   "outputs": [],
   "source": [
    "rows, cols = img.shape[:2]\n",
    "kernel_x  = cv2.getGaussianKernel(cols, 2000)\n",
    "kernel_y = cv2.getGaussianKernel(rows, 2000)\n",
    "kernel = kernel_y*kernel_x.T\n",
    "mask = 255*kernel / np.linalg.norm(kernel)\n",
    "output = np.copy(img)\n"
   ]
  },
  {
   "cell_type": "code",
   "execution_count": null,
   "id": "96100602",
   "metadata": {},
   "outputs": [],
   "source": [
    "for i in range(3):\n",
    "    output[:,:,i] = output[:,:,i] * mask\n",
    "cv2.imshow('original', img)\n",
    "cv2.imshow('vignette', output)\n",
    "cv2.waitKey(0)\n",
    "cv2.destroyAllWindows()"
   ]
  },
  {
   "cell_type": "code",
   "execution_count": null,
   "id": "d3457dfb",
   "metadata": {},
   "outputs": [],
   "source": [
    "\n"
   ]
  },
  {
   "cell_type": "code",
   "execution_count": null,
   "id": "9b1e0ccc",
   "metadata": {},
   "outputs": [],
   "source": []
  }
 ],
 "metadata": {
  "kernelspec": {
   "display_name": "Python 3",
   "language": "python",
   "name": "python3"
  },
  "language_info": {
   "codemirror_mode": {
    "name": "ipython",
    "version": 3
   },
   "file_extension": ".py",
   "mimetype": "text/x-python",
   "name": "python",
   "nbconvert_exporter": "python",
   "pygments_lexer": "ipython3",
   "version": "3.8.8"
  }
 },
 "nbformat": 4,
 "nbformat_minor": 5
}
