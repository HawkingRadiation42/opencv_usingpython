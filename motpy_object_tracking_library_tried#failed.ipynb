{
 "cells": [
  {
   "cell_type": "code",
   "execution_count": 1,
   "id": "cd5271f5",
   "metadata": {},
   "outputs": [],
   "source": [
    "import cv2\n",
    "import numpy as np\n",
    "from motpy import Detection, MultiObjectTracker"
   ]
  },
  {
   "cell_type": "code",
   "execution_count": 2,
   "id": "74c0d756",
   "metadata": {},
   "outputs": [
    {
     "name": "stdout",
     "output_type": "stream",
     "text": [
      "MOT tracker tracks 1 objects\n",
      "first track box: [ 2.  2. 11. 11.]\n",
      "MOT tracker tracks 1 objects\n",
      "first track box: [ 2.99901088  2.99901088 11.99901088 11.99901088]\n",
      "MOT tracker tracks 1 objects\n",
      "first track box: [ 3.91691422  3.91691422 12.91691422 12.91691422]\n",
      "MOT tracker tracks 1 objects\n",
      "first track box: [ 4.9525471  4.9525471 13.9525471 13.9525471]\n",
      "MOT tracker tracks 1 objects\n",
      "first track box: [ 5.97081149  5.97081149 14.97081149 14.97081149]\n",
      "MOT tracker tracks 1 objects\n",
      "first track box: [ 6.98054798  6.98054798 15.98054798 15.98054798]\n",
      "MOT tracker tracks 1 objects\n",
      "first track box: [ 7.98632081  7.98632081 16.98632081 16.98632081]\n",
      "MOT tracker tracks 1 objects\n",
      "first track box: [ 8.99006256  8.99006256 17.99006256 17.99006256]\n",
      "MOT tracker tracks 1 objects\n",
      "first track box: [ 9.99266608  9.99266608 18.99266608 18.99266608]\n",
      "MOT tracker tracks 1 objects\n",
      "first track box: [10.99457982 10.99457982 19.99457982 19.99457982]\n"
     ]
    }
   ],
   "source": [
    "\n",
    "\n",
    "# create a simple bounding box with format of [xmin, ymin, xmax, ymax]\n",
    "object_box = np.array([1, 1, 10, 10])\n",
    "\n",
    "# create a multi object tracker with a specified step time of 100ms\n",
    "tracker = MultiObjectTracker(dt=0.1)\n",
    "\n",
    "for step in range(10):\n",
    "    # let's simulate object movement by 1 unit (e.g. pixel)\n",
    "    object_box += 1\n",
    "\n",
    "    # update the state of the multi-object-tracker tracker\n",
    "    # with the list of bounding boxes\n",
    "    tracker.step(detections=[Detection(box=object_box)])\n",
    "\n",
    "    # retrieve the active tracks from the tracker (you can customize\n",
    "    # the hyperparameters of tracks filtering by passing extra arguments)\n",
    "    tracks = tracker.active_tracks()\n",
    "\n",
    "    print('MOT tracker tracks %d objects' % len(tracks))\n",
    "    print('first track box: %s' % str(tracks[0].box))"
   ]
  },
  {
   "cell_type": "code",
   "execution_count": null,
   "id": "c643a2e7",
   "metadata": {},
   "outputs": [],
   "source": []
  }
 ],
 "metadata": {
  "kernelspec": {
   "display_name": "Python 3",
   "language": "python",
   "name": "python3"
  },
  "language_info": {
   "codemirror_mode": {
    "name": "ipython",
    "version": 3
   },
   "file_extension": ".py",
   "mimetype": "text/x-python",
   "name": "python",
   "nbconvert_exporter": "python",
   "pygments_lexer": "ipython3",
   "version": "3.8.8"
  }
 },
 "nbformat": 4,
 "nbformat_minor": 5
}
